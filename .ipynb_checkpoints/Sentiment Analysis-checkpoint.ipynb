{
 "cells": [
  {
   "cell_type": "markdown",
   "metadata": {},
   "source": [
    "### Sentiment Analysis with Hotel Review Tripadvisor"
   ]
  },
  {
   "cell_type": "code",
   "execution_count": 252,
   "metadata": {},
   "outputs": [],
   "source": [
    "# Library\n",
    "import pandas as pd\n",
    "import nltk\n",
    "from nltk.corpus import stopwords\n",
    "import re\n",
    "from bs4 import BeautifulSoup\n",
    "from nltk.stem.porter import PorterStemmer"
   ]
  },
  {
   "cell_type": "code",
   "execution_count": 253,
   "metadata": {},
   "outputs": [],
   "source": [
    "# Alert\n",
    "import warnings\n",
    "warnings.filterwarnings('always')  # \"error\", \"ignore\", \"always\", \"default\", \"module\" or \"once\""
   ]
  },
  {
   "cell_type": "code",
   "execution_count": 254,
   "metadata": {},
   "outputs": [
    {
     "data": {
      "text/html": [
       "<div>\n",
       "<style scoped>\n",
       "    .dataframe tbody tr th:only-of-type {\n",
       "        vertical-align: middle;\n",
       "    }\n",
       "\n",
       "    .dataframe tbody tr th {\n",
       "        vertical-align: top;\n",
       "    }\n",
       "\n",
       "    .dataframe thead th {\n",
       "        text-align: right;\n",
       "    }\n",
       "</style>\n",
       "<table border=\"1\" class=\"dataframe\">\n",
       "  <thead>\n",
       "    <tr style=\"text-align: right;\">\n",
       "      <th></th>\n",
       "      <th>Review</th>\n",
       "    </tr>\n",
       "  </thead>\n",
       "  <tbody>\n",
       "    <tr>\n",
       "      <td>0</td>\n",
       "      <td>Hotel with proper hygiene to protect against C...</td>\n",
       "    </tr>\n",
       "    <tr>\n",
       "      <td>1</td>\n",
       "      <td>We went (the whole family) for a vacation in Y...</td>\n",
       "    </tr>\n",
       "    <tr>\n",
       "      <td>2</td>\n",
       "      <td>When i decided to stay here, I know its interi...</td>\n",
       "    </tr>\n",
       "    <tr>\n",
       "      <td>3</td>\n",
       "      <td>Good view and very nice swimming pool area, yo...</td>\n",
       "    </tr>\n",
       "    <tr>\n",
       "      <td>4</td>\n",
       "      <td>This hotel is very nice, especially its outdoo...</td>\n",
       "    </tr>\n",
       "  </tbody>\n",
       "</table>\n",
       "</div>"
      ],
      "text/plain": [
       "                                              Review\n",
       "0  Hotel with proper hygiene to protect against C...\n",
       "1  We went (the whole family) for a vacation in Y...\n",
       "2  When i decided to stay here, I know its interi...\n",
       "3  Good view and very nice swimming pool area, yo...\n",
       "4  This hotel is very nice, especially its outdoo..."
      ]
     },
     "execution_count": 254,
     "metadata": {},
     "output_type": "execute_result"
    }
   ],
   "source": [
    "dataset = pd.read_csv(\"data all.csv\", header=None, names=['Review'])\n",
    "dataset.head()"
   ]
  },
  {
   "cell_type": "markdown",
   "metadata": {},
   "source": [
    "To clean textual data, we call our custom ‘clean_text’ function that performs several transformations:\n",
    "- lower the text\n",
    "- tokenize the text (split the text into words) and remove the punctuation\n",
    "- remove useless words that contain numbers\n",
    "- remove useless stop words like ‘the’, ‘a’ ,’this’ etc.\n",
    "- Part-Of-Speech (POS) tagging: assign a tag to every word to define if it corresponds to a noun, a verb etc. using the WordNet lexical database\n",
    "- lemmatize the text: transform every word into their root form (e.g. rooms -> room, slept -> sleep)"
   ]
  },
  {
   "cell_type": "code",
   "execution_count": 255,
   "metadata": {},
   "outputs": [],
   "source": [
    "data_input = dataset['Review']\n",
    "result=[]\n",
    "\n",
    "for text in data_input:\n",
    "    # 2. Remove non-letters        \n",
    "    letters_only = re.sub(\"[^a-zA-Z]\", \" \", text) \n",
    "\n",
    "    # 3. Convert to lower case, split into individual words\n",
    "    words = letters_only.lower().split()                             \n",
    "\n",
    "    # 4. In Python, searching a set is much faster than searching\n",
    "    # a list, so convert the stop words to a set\n",
    "    stops = set(stopwords.words(\"english\"))\n",
    "    stops.remove('not')\n",
    " \n",
    "    # 5. Remove stop words\n",
    "    meaningful_words = [w for w in words if not w in stops]\n",
    "    result.append(meaningful_words)"
   ]
  },
  {
   "cell_type": "code",
   "execution_count": 256,
   "metadata": {},
   "outputs": [
    {
     "name": "stdout",
     "output_type": "stream",
     "text": [
      "['arrive', 'hotel', 'feel', 'different', 'ambience', 'bustling', 'city', 'tranquil', 'great', 'facilities', 'inside', 'swimming', 'pools', 'long', 'jogging', 'track', 'golf', 'course', 'beautiful', 'garden', 'health', 'club', 'even', 'free', 'horse', 'carriage', 'ride']\n"
     ]
    }
   ],
   "source": [
    "print(result[863])"
   ]
  },
  {
   "cell_type": "code",
   "execution_count": 257,
   "metadata": {
    "scrolled": true
   },
   "outputs": [],
   "source": [
    "from nltk.stem import WordNetLemmatizer\n",
    "wordnet_lemmatizer = WordNetLemmatizer()\n",
    "\n",
    "text_all = []\n",
    "for word_list in result: \n",
    "    text_word = []\n",
    "    for word in word_list:\n",
    "        text = wordnet_lemmatizer.lemmatize(word, pos=\"v\")\n",
    "        text_word.append(text)\n",
    "    text_word = \" \".join(text_word)\n",
    "    text_all.append(text_word)"
   ]
  },
  {
   "cell_type": "code",
   "execution_count": 258,
   "metadata": {},
   "outputs": [
    {
     "name": "stdout",
     "output_type": "stream",
     "text": [
      "go whole family vacation yogyakarta many hotels choose decide stay hyatt regency location initially experience get expect especially facilities\n",
      "['went', 'whole', 'family', 'vacation', 'yogyakarta', 'many', 'hotels', 'choose', 'decided', 'stay', 'hyatt', 'regency', 'location', 'initially', 'experiences', 'got', 'expected', 'especially', 'facilities']\n"
     ]
    }
   ],
   "source": [
    "print(text_all[1])\n",
    "print(result[1])"
   ]
  },
  {
   "cell_type": "code",
   "execution_count": 259,
   "metadata": {},
   "outputs": [],
   "source": [
    "reviews_df = pd.DataFrame(text_all, columns=[\"Review\"])"
   ]
  },
  {
   "cell_type": "code",
   "execution_count": 260,
   "metadata": {},
   "outputs": [
    {
     "data": {
      "text/html": [
       "<div>\n",
       "<style scoped>\n",
       "    .dataframe tbody tr th:only-of-type {\n",
       "        vertical-align: middle;\n",
       "    }\n",
       "\n",
       "    .dataframe tbody tr th {\n",
       "        vertical-align: top;\n",
       "    }\n",
       "\n",
       "    .dataframe thead th {\n",
       "        text-align: right;\n",
       "    }\n",
       "</style>\n",
       "<table border=\"1\" class=\"dataframe\">\n",
       "  <thead>\n",
       "    <tr style=\"text-align: right;\">\n",
       "      <th></th>\n",
       "      <th>Review</th>\n",
       "    </tr>\n",
       "  </thead>\n",
       "  <tbody>\n",
       "    <tr>\n",
       "      <td>0</td>\n",
       "      <td>hotel proper hygiene protect covid staff train...</td>\n",
       "    </tr>\n",
       "    <tr>\n",
       "      <td>1</td>\n",
       "      <td>go whole family vacation yogyakarta many hotel...</td>\n",
       "    </tr>\n",
       "    <tr>\n",
       "      <td>2</td>\n",
       "      <td>decide stay know interior date need renovation...</td>\n",
       "    </tr>\n",
       "    <tr>\n",
       "      <td>3</td>\n",
       "      <td>good view nice swim pool area walk jog track e...</td>\n",
       "    </tr>\n",
       "    <tr>\n",
       "      <td>4</td>\n",
       "      <td>hotel nice especially outdoor facilities like ...</td>\n",
       "    </tr>\n",
       "  </tbody>\n",
       "</table>\n",
       "</div>"
      ],
      "text/plain": [
       "                                              Review\n",
       "0  hotel proper hygiene protect covid staff train...\n",
       "1  go whole family vacation yogyakarta many hotel...\n",
       "2  decide stay know interior date need renovation...\n",
       "3  good view nice swim pool area walk jog track e...\n",
       "4  hotel nice especially outdoor facilities like ..."
      ]
     },
     "execution_count": 260,
     "metadata": {},
     "output_type": "execute_result"
    }
   ],
   "source": [
    "reviews_df.head()"
   ]
  },
  {
   "cell_type": "code",
   "execution_count": 261,
   "metadata": {},
   "outputs": [],
   "source": [
    "# add sentiment anaylsis columns\n",
    "from nltk.sentiment.vader import SentimentIntensityAnalyzer\n",
    "\n",
    "sid = SentimentIntensityAnalyzer()\n",
    "reviews_df[\"sentiments\"] = reviews_df[\"Review\"].apply(lambda x: sid.polarity_scores(x))\n",
    "reviews_df = pd.concat([reviews_df.drop(['sentiments'], axis=1), reviews_df['sentiments'].apply(pd.Series)], axis=1)\n"
   ]
  },
  {
   "cell_type": "code",
   "execution_count": 262,
   "metadata": {},
   "outputs": [
    {
     "data": {
      "text/html": [
       "<div>\n",
       "<style scoped>\n",
       "    .dataframe tbody tr th:only-of-type {\n",
       "        vertical-align: middle;\n",
       "    }\n",
       "\n",
       "    .dataframe tbody tr th {\n",
       "        vertical-align: top;\n",
       "    }\n",
       "\n",
       "    .dataframe thead th {\n",
       "        text-align: right;\n",
       "    }\n",
       "</style>\n",
       "<table border=\"1\" class=\"dataframe\">\n",
       "  <thead>\n",
       "    <tr style=\"text-align: right;\">\n",
       "      <th></th>\n",
       "      <th>Review</th>\n",
       "      <th>neg</th>\n",
       "      <th>neu</th>\n",
       "      <th>pos</th>\n",
       "      <th>compound</th>\n",
       "    </tr>\n",
       "  </thead>\n",
       "  <tbody>\n",
       "    <tr>\n",
       "      <td>0</td>\n",
       "      <td>hotel proper hygiene protect covid staff train...</td>\n",
       "      <td>0.000</td>\n",
       "      <td>0.437</td>\n",
       "      <td>0.563</td>\n",
       "      <td>0.9764</td>\n",
       "    </tr>\n",
       "    <tr>\n",
       "      <td>1</td>\n",
       "      <td>go whole family vacation yogyakarta many hotel...</td>\n",
       "      <td>0.000</td>\n",
       "      <td>1.000</td>\n",
       "      <td>0.000</td>\n",
       "      <td>0.0000</td>\n",
       "    </tr>\n",
       "    <tr>\n",
       "      <td>2</td>\n",
       "      <td>decide stay know interior date need renovation...</td>\n",
       "      <td>0.000</td>\n",
       "      <td>0.625</td>\n",
       "      <td>0.375</td>\n",
       "      <td>0.8625</td>\n",
       "    </tr>\n",
       "    <tr>\n",
       "      <td>3</td>\n",
       "      <td>good view nice swim pool area walk jog track e...</td>\n",
       "      <td>0.000</td>\n",
       "      <td>0.471</td>\n",
       "      <td>0.529</td>\n",
       "      <td>0.9744</td>\n",
       "    </tr>\n",
       "    <tr>\n",
       "      <td>4</td>\n",
       "      <td>hotel nice especially outdoor facilities like ...</td>\n",
       "      <td>0.000</td>\n",
       "      <td>0.549</td>\n",
       "      <td>0.451</td>\n",
       "      <td>0.9295</td>\n",
       "    </tr>\n",
       "    <tr>\n",
       "      <td>...</td>\n",
       "      <td>...</td>\n",
       "      <td>...</td>\n",
       "      <td>...</td>\n",
       "      <td>...</td>\n",
       "      <td>...</td>\n",
       "    </tr>\n",
       "    <tr>\n",
       "      <td>1680</td>\n",
       "      <td>stay hyatt yogjakarta nights book asia room ra...</td>\n",
       "      <td>0.073</td>\n",
       "      <td>0.746</td>\n",
       "      <td>0.181</td>\n",
       "      <td>0.8988</td>\n",
       "    </tr>\n",
       "    <tr>\n",
       "      <td>1681</td>\n",
       "      <td>stay hyatt yogyakarta nights regional office m...</td>\n",
       "      <td>0.036</td>\n",
       "      <td>0.671</td>\n",
       "      <td>0.293</td>\n",
       "      <td>0.9757</td>\n",
       "    </tr>\n",
       "    <tr>\n",
       "      <td>1682</td>\n",
       "      <td>hyatt regency yogyakarta indonesia first conta...</td>\n",
       "      <td>0.000</td>\n",
       "      <td>0.729</td>\n",
       "      <td>0.271</td>\n",
       "      <td>0.9738</td>\n",
       "    </tr>\n",
       "    <tr>\n",
       "      <td>1683</td>\n",
       "      <td>beautifully design hotel attractive ground fan...</td>\n",
       "      <td>0.086</td>\n",
       "      <td>0.647</td>\n",
       "      <td>0.268</td>\n",
       "      <td>0.9460</td>\n",
       "    </tr>\n",
       "    <tr>\n",
       "      <td>1684</td>\n",
       "      <td>stay hotel week staff nice room average small ...</td>\n",
       "      <td>0.048</td>\n",
       "      <td>0.766</td>\n",
       "      <td>0.185</td>\n",
       "      <td>0.9070</td>\n",
       "    </tr>\n",
       "  </tbody>\n",
       "</table>\n",
       "<p>1685 rows × 5 columns</p>\n",
       "</div>"
      ],
      "text/plain": [
       "                                                 Review    neg    neu    pos  \\\n",
       "0     hotel proper hygiene protect covid staff train...  0.000  0.437  0.563   \n",
       "1     go whole family vacation yogyakarta many hotel...  0.000  1.000  0.000   \n",
       "2     decide stay know interior date need renovation...  0.000  0.625  0.375   \n",
       "3     good view nice swim pool area walk jog track e...  0.000  0.471  0.529   \n",
       "4     hotel nice especially outdoor facilities like ...  0.000  0.549  0.451   \n",
       "...                                                 ...    ...    ...    ...   \n",
       "1680  stay hyatt yogjakarta nights book asia room ra...  0.073  0.746  0.181   \n",
       "1681  stay hyatt yogyakarta nights regional office m...  0.036  0.671  0.293   \n",
       "1682  hyatt regency yogyakarta indonesia first conta...  0.000  0.729  0.271   \n",
       "1683  beautifully design hotel attractive ground fan...  0.086  0.647  0.268   \n",
       "1684  stay hotel week staff nice room average small ...  0.048  0.766  0.185   \n",
       "\n",
       "      compound  \n",
       "0       0.9764  \n",
       "1       0.0000  \n",
       "2       0.8625  \n",
       "3       0.9744  \n",
       "4       0.9295  \n",
       "...        ...  \n",
       "1680    0.8988  \n",
       "1681    0.9757  \n",
       "1682    0.9738  \n",
       "1683    0.9460  \n",
       "1684    0.9070  \n",
       "\n",
       "[1685 rows x 5 columns]"
      ]
     },
     "execution_count": 262,
     "metadata": {},
     "output_type": "execute_result"
    }
   ],
   "source": [
    "reviews_df"
   ]
  },
  {
   "cell_type": "code",
   "execution_count": 263,
   "metadata": {},
   "outputs": [],
   "source": [
    "# Export to csv\n",
    "# data = pd.DataFrame(reviews_df)\n",
    "\n",
    "# data.to_csv('review with sentiment 2.csv', header=False, index=False)"
   ]
  },
  {
   "cell_type": "code",
   "execution_count": 264,
   "metadata": {},
   "outputs": [],
   "source": [
    "#scan struk belanja, "
   ]
  },
  {
   "cell_type": "code",
   "execution_count": 265,
   "metadata": {},
   "outputs": [
    {
     "name": "stdout",
     "output_type": "stream",
     "text": [
      "0       0.9764\n",
      "1       0.0000\n",
      "2       0.8625\n",
      "3       0.9744\n",
      "4       0.9295\n",
      "         ...  \n",
      "1680    0.8988\n",
      "1681    0.9757\n",
      "1682    0.9738\n",
      "1683    0.9460\n",
      "1684    0.9070\n",
      "Name: compound, Length: 1685, dtype: float64\n"
     ]
    }
   ],
   "source": [
    "print(reviews_df['compound'])"
   ]
  },
  {
   "cell_type": "code",
   "execution_count": 266,
   "metadata": {},
   "outputs": [],
   "source": [
    "sentiment = []\n",
    "for row in reviews_df['compound']:\n",
    "    if row < -0.05:\n",
    "        sentiment.append(0) #Negatif\n",
    "    elif row > 0.05:\n",
    "        sentiment.append(1) #Positif\n",
    "    else :\n",
    "        sentiment.append(2) #Netral\n",
    "\n",
    "reviews_df['sentiment'] = sentiment"
   ]
  },
  {
   "cell_type": "code",
   "execution_count": 267,
   "metadata": {},
   "outputs": [
    {
     "data": {
      "text/html": [
       "<div>\n",
       "<style scoped>\n",
       "    .dataframe tbody tr th:only-of-type {\n",
       "        vertical-align: middle;\n",
       "    }\n",
       "\n",
       "    .dataframe tbody tr th {\n",
       "        vertical-align: top;\n",
       "    }\n",
       "\n",
       "    .dataframe thead th {\n",
       "        text-align: right;\n",
       "    }\n",
       "</style>\n",
       "<table border=\"1\" class=\"dataframe\">\n",
       "  <thead>\n",
       "    <tr style=\"text-align: right;\">\n",
       "      <th></th>\n",
       "      <th>Review</th>\n",
       "      <th>neg</th>\n",
       "      <th>neu</th>\n",
       "      <th>pos</th>\n",
       "      <th>compound</th>\n",
       "      <th>sentiment</th>\n",
       "    </tr>\n",
       "  </thead>\n",
       "  <tbody>\n",
       "    <tr>\n",
       "      <td>0</td>\n",
       "      <td>hotel proper hygiene protect covid staff train...</td>\n",
       "      <td>0.000</td>\n",
       "      <td>0.437</td>\n",
       "      <td>0.563</td>\n",
       "      <td>0.9764</td>\n",
       "      <td>1</td>\n",
       "    </tr>\n",
       "    <tr>\n",
       "      <td>1</td>\n",
       "      <td>go whole family vacation yogyakarta many hotel...</td>\n",
       "      <td>0.000</td>\n",
       "      <td>1.000</td>\n",
       "      <td>0.000</td>\n",
       "      <td>0.0000</td>\n",
       "      <td>2</td>\n",
       "    </tr>\n",
       "    <tr>\n",
       "      <td>2</td>\n",
       "      <td>decide stay know interior date need renovation...</td>\n",
       "      <td>0.000</td>\n",
       "      <td>0.625</td>\n",
       "      <td>0.375</td>\n",
       "      <td>0.8625</td>\n",
       "      <td>1</td>\n",
       "    </tr>\n",
       "    <tr>\n",
       "      <td>3</td>\n",
       "      <td>good view nice swim pool area walk jog track e...</td>\n",
       "      <td>0.000</td>\n",
       "      <td>0.471</td>\n",
       "      <td>0.529</td>\n",
       "      <td>0.9744</td>\n",
       "      <td>1</td>\n",
       "    </tr>\n",
       "    <tr>\n",
       "      <td>4</td>\n",
       "      <td>hotel nice especially outdoor facilities like ...</td>\n",
       "      <td>0.000</td>\n",
       "      <td>0.549</td>\n",
       "      <td>0.451</td>\n",
       "      <td>0.9295</td>\n",
       "      <td>1</td>\n",
       "    </tr>\n",
       "    <tr>\n",
       "      <td>...</td>\n",
       "      <td>...</td>\n",
       "      <td>...</td>\n",
       "      <td>...</td>\n",
       "      <td>...</td>\n",
       "      <td>...</td>\n",
       "      <td>...</td>\n",
       "    </tr>\n",
       "    <tr>\n",
       "      <td>1680</td>\n",
       "      <td>stay hyatt yogjakarta nights book asia room ra...</td>\n",
       "      <td>0.073</td>\n",
       "      <td>0.746</td>\n",
       "      <td>0.181</td>\n",
       "      <td>0.8988</td>\n",
       "      <td>1</td>\n",
       "    </tr>\n",
       "    <tr>\n",
       "      <td>1681</td>\n",
       "      <td>stay hyatt yogyakarta nights regional office m...</td>\n",
       "      <td>0.036</td>\n",
       "      <td>0.671</td>\n",
       "      <td>0.293</td>\n",
       "      <td>0.9757</td>\n",
       "      <td>1</td>\n",
       "    </tr>\n",
       "    <tr>\n",
       "      <td>1682</td>\n",
       "      <td>hyatt regency yogyakarta indonesia first conta...</td>\n",
       "      <td>0.000</td>\n",
       "      <td>0.729</td>\n",
       "      <td>0.271</td>\n",
       "      <td>0.9738</td>\n",
       "      <td>1</td>\n",
       "    </tr>\n",
       "    <tr>\n",
       "      <td>1683</td>\n",
       "      <td>beautifully design hotel attractive ground fan...</td>\n",
       "      <td>0.086</td>\n",
       "      <td>0.647</td>\n",
       "      <td>0.268</td>\n",
       "      <td>0.9460</td>\n",
       "      <td>1</td>\n",
       "    </tr>\n",
       "    <tr>\n",
       "      <td>1684</td>\n",
       "      <td>stay hotel week staff nice room average small ...</td>\n",
       "      <td>0.048</td>\n",
       "      <td>0.766</td>\n",
       "      <td>0.185</td>\n",
       "      <td>0.9070</td>\n",
       "      <td>1</td>\n",
       "    </tr>\n",
       "  </tbody>\n",
       "</table>\n",
       "<p>1685 rows × 6 columns</p>\n",
       "</div>"
      ],
      "text/plain": [
       "                                                 Review    neg    neu    pos  \\\n",
       "0     hotel proper hygiene protect covid staff train...  0.000  0.437  0.563   \n",
       "1     go whole family vacation yogyakarta many hotel...  0.000  1.000  0.000   \n",
       "2     decide stay know interior date need renovation...  0.000  0.625  0.375   \n",
       "3     good view nice swim pool area walk jog track e...  0.000  0.471  0.529   \n",
       "4     hotel nice especially outdoor facilities like ...  0.000  0.549  0.451   \n",
       "...                                                 ...    ...    ...    ...   \n",
       "1680  stay hyatt yogjakarta nights book asia room ra...  0.073  0.746  0.181   \n",
       "1681  stay hyatt yogyakarta nights regional office m...  0.036  0.671  0.293   \n",
       "1682  hyatt regency yogyakarta indonesia first conta...  0.000  0.729  0.271   \n",
       "1683  beautifully design hotel attractive ground fan...  0.086  0.647  0.268   \n",
       "1684  stay hotel week staff nice room average small ...  0.048  0.766  0.185   \n",
       "\n",
       "      compound  sentiment  \n",
       "0       0.9764          1  \n",
       "1       0.0000          2  \n",
       "2       0.8625          1  \n",
       "3       0.9744          1  \n",
       "4       0.9295          1  \n",
       "...        ...        ...  \n",
       "1680    0.8988          1  \n",
       "1681    0.9757          1  \n",
       "1682    0.9738          1  \n",
       "1683    0.9460          1  \n",
       "1684    0.9070          1  \n",
       "\n",
       "[1685 rows x 6 columns]"
      ]
     },
     "execution_count": 267,
     "metadata": {},
     "output_type": "execute_result"
    }
   ],
   "source": [
    "reviews_df"
   ]
  },
  {
   "cell_type": "code",
   "execution_count": 268,
   "metadata": {},
   "outputs": [],
   "source": [
    "reviews_df = reviews_df[reviews_df.sentiment != 2]"
   ]
  },
  {
   "cell_type": "code",
   "execution_count": 269,
   "metadata": {},
   "outputs": [
    {
     "data": {
      "text/html": [
       "<div>\n",
       "<style scoped>\n",
       "    .dataframe tbody tr th:only-of-type {\n",
       "        vertical-align: middle;\n",
       "    }\n",
       "\n",
       "    .dataframe tbody tr th {\n",
       "        vertical-align: top;\n",
       "    }\n",
       "\n",
       "    .dataframe thead th {\n",
       "        text-align: right;\n",
       "    }\n",
       "</style>\n",
       "<table border=\"1\" class=\"dataframe\">\n",
       "  <thead>\n",
       "    <tr style=\"text-align: right;\">\n",
       "      <th></th>\n",
       "      <th>Review</th>\n",
       "      <th>neg</th>\n",
       "      <th>neu</th>\n",
       "      <th>pos</th>\n",
       "      <th>compound</th>\n",
       "      <th>sentiment</th>\n",
       "    </tr>\n",
       "  </thead>\n",
       "  <tbody>\n",
       "    <tr>\n",
       "      <td>0</td>\n",
       "      <td>hotel proper hygiene protect covid staff train...</td>\n",
       "      <td>0.000</td>\n",
       "      <td>0.437</td>\n",
       "      <td>0.563</td>\n",
       "      <td>0.9764</td>\n",
       "      <td>1</td>\n",
       "    </tr>\n",
       "    <tr>\n",
       "      <td>2</td>\n",
       "      <td>decide stay know interior date need renovation...</td>\n",
       "      <td>0.000</td>\n",
       "      <td>0.625</td>\n",
       "      <td>0.375</td>\n",
       "      <td>0.8625</td>\n",
       "      <td>1</td>\n",
       "    </tr>\n",
       "    <tr>\n",
       "      <td>3</td>\n",
       "      <td>good view nice swim pool area walk jog track e...</td>\n",
       "      <td>0.000</td>\n",
       "      <td>0.471</td>\n",
       "      <td>0.529</td>\n",
       "      <td>0.9744</td>\n",
       "      <td>1</td>\n",
       "    </tr>\n",
       "    <tr>\n",
       "      <td>4</td>\n",
       "      <td>hotel nice especially outdoor facilities like ...</td>\n",
       "      <td>0.000</td>\n",
       "      <td>0.549</td>\n",
       "      <td>0.451</td>\n",
       "      <td>0.9295</td>\n",
       "      <td>1</td>\n",
       "    </tr>\n",
       "    <tr>\n",
       "      <td>5</td>\n",
       "      <td>best service hotel staff nice escort front des...</td>\n",
       "      <td>0.000</td>\n",
       "      <td>0.531</td>\n",
       "      <td>0.469</td>\n",
       "      <td>0.8885</td>\n",
       "      <td>1</td>\n",
       "    </tr>\n",
       "    <tr>\n",
       "      <td>...</td>\n",
       "      <td>...</td>\n",
       "      <td>...</td>\n",
       "      <td>...</td>\n",
       "      <td>...</td>\n",
       "      <td>...</td>\n",
       "      <td>...</td>\n",
       "    </tr>\n",
       "    <tr>\n",
       "      <td>1680</td>\n",
       "      <td>stay hyatt yogjakarta nights book asia room ra...</td>\n",
       "      <td>0.073</td>\n",
       "      <td>0.746</td>\n",
       "      <td>0.181</td>\n",
       "      <td>0.8988</td>\n",
       "      <td>1</td>\n",
       "    </tr>\n",
       "    <tr>\n",
       "      <td>1681</td>\n",
       "      <td>stay hyatt yogyakarta nights regional office m...</td>\n",
       "      <td>0.036</td>\n",
       "      <td>0.671</td>\n",
       "      <td>0.293</td>\n",
       "      <td>0.9757</td>\n",
       "      <td>1</td>\n",
       "    </tr>\n",
       "    <tr>\n",
       "      <td>1682</td>\n",
       "      <td>hyatt regency yogyakarta indonesia first conta...</td>\n",
       "      <td>0.000</td>\n",
       "      <td>0.729</td>\n",
       "      <td>0.271</td>\n",
       "      <td>0.9738</td>\n",
       "      <td>1</td>\n",
       "    </tr>\n",
       "    <tr>\n",
       "      <td>1683</td>\n",
       "      <td>beautifully design hotel attractive ground fan...</td>\n",
       "      <td>0.086</td>\n",
       "      <td>0.647</td>\n",
       "      <td>0.268</td>\n",
       "      <td>0.9460</td>\n",
       "      <td>1</td>\n",
       "    </tr>\n",
       "    <tr>\n",
       "      <td>1684</td>\n",
       "      <td>stay hotel week staff nice room average small ...</td>\n",
       "      <td>0.048</td>\n",
       "      <td>0.766</td>\n",
       "      <td>0.185</td>\n",
       "      <td>0.9070</td>\n",
       "      <td>1</td>\n",
       "    </tr>\n",
       "  </tbody>\n",
       "</table>\n",
       "<p>1680 rows × 6 columns</p>\n",
       "</div>"
      ],
      "text/plain": [
       "                                                 Review    neg    neu    pos  \\\n",
       "0     hotel proper hygiene protect covid staff train...  0.000  0.437  0.563   \n",
       "2     decide stay know interior date need renovation...  0.000  0.625  0.375   \n",
       "3     good view nice swim pool area walk jog track e...  0.000  0.471  0.529   \n",
       "4     hotel nice especially outdoor facilities like ...  0.000  0.549  0.451   \n",
       "5     best service hotel staff nice escort front des...  0.000  0.531  0.469   \n",
       "...                                                 ...    ...    ...    ...   \n",
       "1680  stay hyatt yogjakarta nights book asia room ra...  0.073  0.746  0.181   \n",
       "1681  stay hyatt yogyakarta nights regional office m...  0.036  0.671  0.293   \n",
       "1682  hyatt regency yogyakarta indonesia first conta...  0.000  0.729  0.271   \n",
       "1683  beautifully design hotel attractive ground fan...  0.086  0.647  0.268   \n",
       "1684  stay hotel week staff nice room average small ...  0.048  0.766  0.185   \n",
       "\n",
       "      compound  sentiment  \n",
       "0       0.9764          1  \n",
       "2       0.8625          1  \n",
       "3       0.9744          1  \n",
       "4       0.9295          1  \n",
       "5       0.8885          1  \n",
       "...        ...        ...  \n",
       "1680    0.8988          1  \n",
       "1681    0.9757          1  \n",
       "1682    0.9738          1  \n",
       "1683    0.9460          1  \n",
       "1684    0.9070          1  \n",
       "\n",
       "[1680 rows x 6 columns]"
      ]
     },
     "execution_count": 269,
     "metadata": {},
     "output_type": "execute_result"
    }
   ],
   "source": [
    "reviews_df"
   ]
  },
  {
   "cell_type": "code",
   "execution_count": 270,
   "metadata": {},
   "outputs": [
    {
     "data": {
      "text/plain": [
       "<matplotlib.axes._subplots.AxesSubplot at 0x156cf200f08>"
      ]
     },
     "execution_count": 270,
     "metadata": {},
     "output_type": "execute_result"
    },
    {
     "data": {
      "image/png": "[encoded data removed]",
      "text/plain": [
       "<Figure size 432x288 with 1 Axes>"
      ]
     },
     "metadata": {
      "needs_background": "light"
     },
     "output_type": "display_data"
    }
   ],
   "source": [
    "reviews_df['sentiment'].value_counts().plot(kind='bar')"
   ]
  },
  {
   "cell_type": "code",
   "execution_count": 272,
   "metadata": {},
   "outputs": [],
   "source": [
    "from sklearn.feature_extraction.text import CountVectorizer\n",
    "\n",
    "cv = CountVectorizer(stop_words='english')\n",
    "cv.fit(reviews_df['Review'])\n",
    "X = cv.transform(reviews_df['Review'])\n",
    "y = reviews_df['sentiment']"
   ]
  },
  {
   "cell_type": "code",
   "execution_count": 273,
   "metadata": {},
   "outputs": [],
   "source": [
    "# split data model - data train & data test\n",
    "from sklearn.linear_model import LogisticRegression\n",
    "from sklearn.metrics import accuracy_score\n",
    "from sklearn.model_selection import train_test_split\n",
    "\n",
    "X_train, X_test, y_train, y_test = train_test_split(X, y, test_size=0.20, random_state=0)"
   ]
  },
  {
   "cell_type": "code",
   "execution_count": 274,
   "metadata": {},
   "outputs": [
    {
     "data": {
      "text/plain": [
       "LogisticRegression()"
      ]
     },
     "execution_count": 274,
     "metadata": {},
     "output_type": "execute_result"
    }
   ],
   "source": [
    "# Logistic Regression, Naive Bayes, SVM, Random Forest\n",
    "\n",
    "from sklearn.linear_model import LogisticRegression\n",
    "from sklearn.metrics import accuracy_score\n",
    "\n",
    "model = LogisticRegression()\n",
    "model.fit(X_train, y_train)"
   ]
  },
  {
   "cell_type": "code",
   "execution_count": 275,
   "metadata": {},
   "outputs": [],
   "source": [
    "y_predict = model.predict(X_test)"
   ]
  },
  {
   "cell_type": "code",
   "execution_count": 280,
   "metadata": {},
   "outputs": [
    {
     "name": "stdout",
     "output_type": "stream",
     "text": [
      "              precision    recall  f1-score   support\n",
      "\n",
      "           0       0.00      0.00      0.00         7\n",
      "           1       0.98      1.00      0.99       329\n",
      "\n",
      "    accuracy                           0.98       336\n",
      "   macro avg       0.49      0.50      0.49       336\n",
      "weighted avg       0.96      0.98      0.97       336\n",
      "\n"
     ]
    },
    {
     "name": "stderr",
     "output_type": "stream",
     "text": [
      "C:\\Users\\Andhika\\AppData\\Local\\Continuum\\anaconda3\\lib\\site-packages\\sklearn\\metrics\\_classification.py:1245: UndefinedMetricWarning: Precision and F-score are ill-defined and being set to 0.0 in labels with no predicted samples. Use `zero_division` parameter to control this behavior.\n",
      "  _warn_prf(average, modifier, msg_start, len(result))\n",
      "C:\\Users\\Andhika\\AppData\\Local\\Continuum\\anaconda3\\lib\\site-packages\\sklearn\\metrics\\_classification.py:1245: UndefinedMetricWarning: Precision and F-score are ill-defined and being set to 0.0 in labels with no predicted samples. Use `zero_division` parameter to control this behavior.\n",
      "  _warn_prf(average, modifier, msg_start, len(result))\n",
      "C:\\Users\\Andhika\\AppData\\Local\\Continuum\\anaconda3\\lib\\site-packages\\sklearn\\metrics\\_classification.py:1245: UndefinedMetricWarning: Precision and F-score are ill-defined and being set to 0.0 in labels with no predicted samples. Use `zero_division` parameter to control this behavior.\n",
      "  _warn_prf(average, modifier, msg_start, len(result))\n"
     ]
    },
    {
     "data": {
      "text/plain": [
       "0.9791666666666666"
      ]
     },
     "execution_count": 280,
     "metadata": {},
     "output_type": "execute_result"
    }
   ],
   "source": [
    "from sklearn.metrics import classification_report, confusion_matrix\n",
    "\n",
    "# Result and Accuracy\n",
    "print(classification_report(y_test, y_predict))\n",
    "accuracy_score(y_test,y_predict)"
   ]
  }
 ],
 "metadata": {
  "kernelspec": {
   "display_name": "Python 3",
   "language": "python",
   "name": "python3"
  },
  "language_info": {
   "codemirror_mode": {
    "name": "ipython",
    "version": 3
   },
   "file_extension": ".py",
   "mimetype": "text/x-python",
   "name": "python",
   "nbconvert_exporter": "python",
   "pygments_lexer": "ipython3",
   "version": "3.7.4"
  }
 },
 "nbformat": 4,
 "nbformat_minor": 2
}
