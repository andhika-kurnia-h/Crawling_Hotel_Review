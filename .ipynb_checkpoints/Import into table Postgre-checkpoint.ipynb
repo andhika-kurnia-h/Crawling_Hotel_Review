{
 "cells": [
  {
   "cell_type": "code",
   "execution_count": 1,
   "metadata": {},
   "outputs": [],
   "source": [
    "import psycopg2\n",
    "import pandas as pd"
   ]
  },
  {
   "cell_type": "code",
   "execution_count": 62,
   "metadata": {},
   "outputs": [],
   "source": [
    "#connect to the database\n",
    "conn = psycopg2.connect(host='localhost',\n",
    "                       dbname='mysite',\n",
    "                       user='postgres',\n",
    "                       password='Wilmar12',\n",
    "                       port='5432')  \n",
    "#create a cursor object \n",
    "#cursor object is used to interact with the database\n",
    "cur = conn.cursor()"
   ]
  },
  {
   "cell_type": "code",
   "execution_count": 63,
   "metadata": {},
   "outputs": [
    {
     "data": {
      "text/plain": [
       "1685"
      ]
     },
     "execution_count": 63,
     "metadata": {},
     "output_type": "execute_result"
    }
   ],
   "source": [
    "data = pd.read_csv('data all.csv', header=None)\n",
    "data.head()\n",
    "len(data)"
   ]
  },
  {
   "cell_type": "code",
   "execution_count": 64,
   "metadata": {},
   "outputs": [],
   "source": [
    "delete_data = \"DELETE FROM appsone_customer_review;\"\n",
    "cur.execute(delete_data)\n",
    "\n",
    "for i in range(0,len(data)):\n",
    "    insert_query = \"INSERT INTO appsone_customer_review VALUES (\"+\"'\"+str(data[0][i])+\"'\"+\",\"+\"'\"+str(data[1][i])+\"');\"\n",
    "    cur.execute(insert_query)\n",
    "conn.commit()"
   ]
  },
  {
   "cell_type": "code",
   "execution_count": null,
   "metadata": {},
   "outputs": [],
   "source": []
  }
 ],
 "metadata": {
  "kernelspec": {
   "display_name": "Python 3",
   "language": "python",
   "name": "python3"
  },
  "language_info": {
   "codemirror_mode": {
    "name": "ipython",
    "version": 3
   },
   "file_extension": ".py",
   "mimetype": "text/x-python",
   "name": "python",
   "nbconvert_exporter": "python",
   "pygments_lexer": "ipython3",
   "version": "3.7.4"
  }
 },
 "nbformat": 4,
 "nbformat_minor": 2
}
